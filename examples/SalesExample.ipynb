{
 "cells": [
  {
   "cell_type": "code",
   "execution_count": null,
   "id": "26686f60-1f0a-4e86-8ff0-c4423a46a1ba",
   "metadata": {},
   "outputs": [],
   "source": [
    "# **Loading Sales Data: A Step-by-Step Guide**\n",
    "\n",
    "Welcome to our tutorial on how to load and explore your sales data using Python and pandas. In this guide, we will walk you through the process of setting up your environment and loading a CSV file into a pandas DataFrame for analysis.\n",
    "\n",
    "## **Step 1: Import Necessary Libraries**\n",
    "\n",
    "The first step in any data analysis project is importing the necessary libraries. Here, we will use pandas, a powerful library for data manipulation and analysis. Ensure pandas is installed in your environment:\n",
    "\n",
    "```bash\n",
    "pip install pandas\n",
    "```\n",
    "\n",
    "Next, import pandas into your script or notebook:\n",
    "\n",
    "```python\n",
    "import pandas as pd\n",
    "```\n",
    "\n",
    "## **Step 2: Define the Path to Your CSV File**\n",
    "\n",
    "Specify the location of your sales data file. This can be a relative or absolute path to the CSV file. For this tutorial, replace `path_to_your_file.csv` with the actual path to your data file:\n",
    "\n",
    "```python\n",
    "file_path = 'path_to_your_file.csv'\n",
    "```\n",
    "\n",
    "## **Step 3: Load the CSV File into a DataFrame**\n",
    "\n",
    "Now, use the `read_csv` function from pandas to load your sales data into a DataFrame. This will allow you to manipulate and analyze your data easily:\n",
    "\n",
    "```python\n",
    "try:\n",
    "    sales_data = pd.read_csv(file_path)\n",
    "    print(\"Data loaded successfully!\")\n",
    "    \n",
    "    # Display the first few rows of the DataFrame\n",
    "    print(sales_data.head())\n",
    "except FileNotFoundError:\n",
    "    print(f\"File not found: {file_path}. Please check the path and try again.\")\n",
    "except pd.errors.EmptyDataError:\n",
    "    print(\"The file is empty. Please provide a valid CSV file.\")\n",
    "except pd.errors.ParserError:\n",
    "    print(\"Error parsing the file. Please ensure it is a valid CSV format.\")\n",
    "```\n",
    "\n",
    "With these steps, your sales data is now loaded into a pandas DataFrame, ready for exploration and analysis. Stay tuned for the next section, where we will dive into exploring and visualizing the data!\n"
   ]
  },
  {
   "cell_type": "markdown",
   "id": "e40b0b8f-8336-47d4-ae99-7f512a5e312c",
   "metadata": {},
   "source": [
    "Welcome to our tutorial on how to load and explore your sales data using Python and pandas. In this guide, we will walk you through the process of setting up your environment and loading a CSV file into a pandas DataFrame for analysis.\n"
   ]
  },
  {
   "cell_type": "markdown",
   "id": "36e11356-d7b5-4be0-80cc-25f37d24e9e1",
   "metadata": {},
   "source": [
    "The first step in any data analysis project is importing the necessary libraries. Here, we will use pandas, a powerful library for data manipulation and analysis. Ensure pandas is installed in your environment:\n"
   ]
  },
  {
   "cell_type": "code",
   "execution_count": 2,
   "id": "01b6a51a-7127-4257-a7a8-884dfafdb498",
   "metadata": {},
   "outputs": [
    {
     "name": "stdout",
     "output_type": "stream",
     "text": [
      "Requirement already satisfied: pandas in /home/alexsky2/Projects/ReportGenerator/venv/lib/python3.12/site-packages (2.2.3)\n",
      "Requirement already satisfied: numpy>=1.26.0 in /home/alexsky2/Projects/ReportGenerator/venv/lib/python3.12/site-packages (from pandas) (1.26.4)\n",
      "Requirement already satisfied: python-dateutil>=2.8.2 in /home/alexsky2/Projects/ReportGenerator/venv/lib/python3.12/site-packages (from pandas) (2.9.0.post0)\n",
      "Requirement already satisfied: pytz>=2020.1 in /home/alexsky2/Projects/ReportGenerator/venv/lib/python3.12/site-packages (from pandas) (2024.2)\n",
      "Requirement already satisfied: tzdata>=2022.7 in /home/alexsky2/Projects/ReportGenerator/venv/lib/python3.12/site-packages (from pandas) (2024.2)\n",
      "Requirement already satisfied: six>=1.5 in /home/alexsky2/Projects/ReportGenerator/venv/lib/python3.12/site-packages (from python-dateutil>=2.8.2->pandas) (1.16.0)\n"
     ]
    }
   ],
   "source": [
    "!pip install pandas"
   ]
  },
  {
   "cell_type": "code",
   "execution_count": 3,
   "id": "6908bc82-64ea-49a0-bf76-2a1d625808ff",
   "metadata": {},
   "outputs": [
    {
     "name": "stdout",
     "output_type": "stream",
     "text": [
      "Data loaded successfully!\n",
      "              Customer Name Customer Headquarters  Customer Monthly Revenue  \\\n",
      "0  Jones, Andrade and Lopez            Ashleyland                 181689.52   \n",
      "1                 Cox Group          Johnsonshire                 269786.49   \n",
      "2           Baker-Carpenter          Johnsonshire                 375930.05   \n",
      "3     Wood, Smith and Doyle          South Joshua                 281023.33   \n",
      "4            Edwards-Farmer           Chelseastad                 330497.25   \n",
      "\n",
      "  Contract Start Date Contract End Date    Sales Contact  \\\n",
      "0          2021-03-21        2023-02-13    Aaron Wallace   \n",
      "1          2020-11-02        2021-05-04     Monique Hill   \n",
      "2          2020-11-22        2022-04-17      Jose Bryant   \n",
      "3          2021-08-17        2022-08-05   Jessica Miller   \n",
      "4          2022-02-25        2023-12-28  Cynthia Bonilla   \n",
      "\n",
      "                                         Sales Notes  \n",
      "0  ChatCompletionMessage(content=\"Subject: Custom...  \n",
      "1  ChatCompletionMessage(content='Dear [Company N...  \n",
      "2  ChatCompletionMessage(content=\"Subject: Thank ...  \n",
      "3  ChatCompletionMessage(content=\"Subject: Note o...  \n",
      "4  ChatCompletionMessage(content='Subject: Absolu...  \n"
     ]
    }
   ],
   "source": [
    "import pandas as pd\n",
    "file_path = 'data/sales_data_with_varied_notes.csv'\n",
    "\n",
    "try:\n",
    "    sales_data = pd.read_csv(file_path)\n",
    "    print(\"Data loaded successfully!\")\n",
    "    \n",
    "    # Display the first few rows of the DataFrame\n",
    "    print(sales_data.head())\n",
    "except FileNotFoundError:\n",
    "    print(f\"File not found: {file_path}. Please check the path and try again.\")\n",
    "except pd.errors.EmptyDataError:\n",
    "    print(\"The file is empty. Please provide a valid CSV file.\")\n",
    "except pd.errors.ParserError:\n",
    "    print(\"Error parsing the file. Please ensure it is a valid CSV format.\")"
   ]
  },
  {
   "cell_type": "code",
   "execution_count": null,
   "id": "32c2378c-363e-46f8-9543-ce1d616cea33",
   "metadata": {},
   "outputs": [],
   "source": []
  }
 ],
 "metadata": {
  "kernelspec": {
   "display_name": "Python 3 (ipykernel)",
   "language": "python",
   "name": "python3"
  },
  "language_info": {
   "codemirror_mode": {
    "name": "ipython",
    "version": 3
   },
   "file_extension": ".py",
   "mimetype": "text/x-python",
   "name": "python",
   "nbconvert_exporter": "python",
   "pygments_lexer": "ipython3",
   "version": "3.12.3"
  }
 },
 "nbformat": 4,
 "nbformat_minor": 5
}
