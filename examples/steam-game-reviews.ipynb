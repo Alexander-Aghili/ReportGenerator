{
 "cells": [
  {
   "cell_type": "markdown",
   "id": "0e0ddac6-6f96-4e9f-bfb2-07fa71208fbf",
   "metadata": {},
   "source": [
    "# Steam Game Reviews\n",
    "\n",
    "Steam is a leading online gaming platform and community that hosts thousands of games along with user-generated reviews. These reviews provide valuable insights into the gaming experience, developer performance, and overall game quality. In this analysis, we aim to explore and extract meaningful information about the games, publishers, and user sentiments from Steam reviews. \n",
    "\n",
    "Through this notebook, we will:\n",
    "\n",
    "- Analyze game reviews to uncover trends in user satisfaction and common themes.\n",
    "- Evaluate publishers and developers based on user feedback.\n",
    "- Explore correlations between game features (genre, price, release date) and review sentiments.\n",
    "- Highlight key statistics and patterns that inform game development and user preferences.\n",
    "\n",
    "By delving into this data, we aim to gain a deeper understanding of what makes a game successful and identify patterns in the gaming community's feedback."
   ]
  },
  {
   "cell_type": "code",
   "execution_count": 1,
   "id": "f62e9fe5-dacc-411f-808b-984d5047cfac",
   "metadata": {},
   "outputs": [],
   "source": [
    "import pickle\n",
    "import sys\n",
    "import os\n",
    "import pandas as pd\n",
    "import glob\n",
    "import random\n",
    "\n",
    "# Get the parent directory and add it to sys.path\n",
    "parent_dir = os.path.abspath(os.path.join(os.path.dirname(\"./\"), '..'))\n",
    "sys.path.append(parent_dir)\n",
    "\n",
    "from src.LLM_analysis import *"
   ]
  },
  {
   "cell_type": "code",
   "execution_count": 2,
   "id": "324938a6-b99f-4a28-9a4a-af3e032f3d26",
   "metadata": {},
   "outputs": [
    {
     "name": "stdout",
     "output_type": "stream",
     "text": [
      "Games Ranking Columns: ['game_name', 'genre', 'rank_type', 'rank']\n",
      "Games Description Columns: ['name', 'short_description', 'long_description', 'genres', 'minimum_system_requirement', 'recommend_system_requirement', 'release_date', 'developer', 'publisher', 'overall_player_rating', 'number_of_reviews_from_purchased_people', 'number_of_english_reviews', 'link']\n",
      "Steam Game Reviews Columns: ['review', 'hours_played', 'helpful', 'funny', 'recommendation', 'date', 'game_name', 'username']\n"
     ]
    },
    {
     "name": "stderr",
     "output_type": "stream",
     "text": [
      "/tmp/ipykernel_16962/2284998936.py:10: DtypeWarning: Columns (2,3) have mixed types. Specify dtype option on import or set low_memory=False.\n",
      "  df = pd.read_csv(file_path)\n"
     ]
    }
   ],
   "source": [
    "\n",
    "# Define the path to your pickle files\n",
    "file_paths = glob.glob('./data/steam_reviews/*.csv')\n",
    "\n",
    "# Initialize an empty list to store the DataFrames\n",
    "dataframes = []\n",
    "\n",
    "# Load each file into a separate DataFrame\n",
    "for file_path in file_paths[:3]:  # Limit to the first three files\n",
    "    with open(file_path, 'rb') as file:\n",
    "        df = pd.read_csv(file_path) \n",
    "        dataframes.append(df)\n",
    "\n",
    "# Assign each DataFrame to separate variables for clarity\n",
    "games_ranking_df, games_description_df, steam_game_reviews_df = dataframes\n",
    "\n",
    "print(\"Games Ranking Columns: \" + str(games_ranking_df.columns.tolist()))\n",
    "print(\"Games Description Columns: \" + str(games_description_df.columns.tolist()))\n",
    "print(\"Steam Game Reviews Columns: \" + str(steam_game_reviews_df.columns.tolist()))"
   ]
  },
  {
   "cell_type": "code",
   "execution_count": 3,
   "id": "67ad3dfc-26ca-430b-ac23-f540e71718bd",
   "metadata": {},
   "outputs": [
    {
     "name": "stdout",
     "output_type": "stream",
     "text": [
      "Games Ranking: \n",
      "                          game_name   genre rank_type  rank\n",
      "0                  Counter-Strike 2  Action     Sales     1\n",
      "1  Warhammer 40,000: Space Marine 2  Action     Sales     2\n",
      "2                    Cyberpunk 2077  Action     Sales     3\n",
      "3                Black Myth: Wukong  Action     Sales     4\n",
      "4                        ELDEN RING  Action     Sales     5\n",
      "\n",
      "\n",
      "\n",
      "Games Description: \n",
      "                               name  \\\n",
      "0                Black Myth: Wukong   \n",
      "1                  Counter-Strike 2   \n",
      "2  Warhammer 40,000: Space Marine 2   \n",
      "3                    Cyberpunk 2077   \n",
      "4                        ELDEN RING   \n",
      "\n",
      "                                   short_description  \\\n",
      "0  Black Myth: Wukong is an action RPG rooted in ...   \n",
      "1  For over two decades, Counter-Strike has offer...   \n",
      "2  Embody the superhuman skill and brutality of a...   \n",
      "3  Cyberpunk 2077 is an open-world, action-advent...   \n",
      "4  THE CRITICALLY ACCLAIMED FANTASY ACTION RPG. R...   \n",
      "\n",
      "                                    long_description  \\\n",
      "0  About This Game\\n\\t\\t\\t\\t\\t\\t\\tBlack Myth: Wuk...   \n",
      "1  About This Game\\n\\t\\t\\t\\t\\t\\t\\tFor over two de...   \n",
      "2  About This Game\\nEmbody the superhuman skill a...   \n",
      "3  About This Game\\nCyberpunk 2077 is an open-wor...   \n",
      "4  About This Game\\nTHE CRITICALLY ACCLAIMED FANT...   \n",
      "\n",
      "                                              genres  \\\n",
      "0  ['Mythology', 'Action RPG', 'Action', 'RPG', '...   \n",
      "1  ['FPS', 'Shooter', 'Multiplayer', 'Competitive...   \n",
      "2  ['Warhammer 40K', 'Action', 'Third-Person Shoo...   \n",
      "3  ['Cyberpunk', 'Open World', 'Nudity', 'RPG', '...   \n",
      "4  ['Souls-like', 'Dark Fantasy', 'Open World', '...   \n",
      "\n",
      "                          minimum_system_requirement  \\\n",
      "0  ['Requires a 64-bit processor and operating sy...   \n",
      "1  ['OS: Windows® 10', 'Processor: 4 hardware CPU...   \n",
      "2  ['Requires a 64-bit processor and operating sy...   \n",
      "3  ['Requires a 64-bit processor and operating sy...   \n",
      "4  ['Requires a 64-bit processor and operating sy...   \n",
      "\n",
      "                        recommend_system_requirement  release_date  \\\n",
      "0  ['Requires a 64-bit processor and operating sy...  19 Aug, 2024   \n",
      "1  ['OS: Windows® 10', 'Processor: 4 hardware CPU...  21 Aug, 2012   \n",
      "2  ['Requires a 64-bit processor and operating sy...   9 Sep, 2024   \n",
      "3  ['Requires a 64-bit processor and operating sy...  10 Dec, 2020   \n",
      "4  ['Requires a 64-bit processor and operating sy...  25 Feb, 2022   \n",
      "\n",
      "                developer                                          publisher  \\\n",
      "0        ['Game Science']                                   ['Game Science']   \n",
      "1               ['Valve']                                          ['Valve']   \n",
      "2   ['Saber Interactive']                            ['Focus Entertainment']   \n",
      "3      ['CD PROJEKT RED']                                 ['CD PROJEKT RED']   \n",
      "4  ['FromSoftware, Inc.']  ['FromSoftware, Inc.', 'Bandai Namco Entertain...   \n",
      "\n",
      "     overall_player_rating number_of_reviews_from_purchased_people  \\\n",
      "0  Overwhelmingly Positive                               (654,820)   \n",
      "1            Very Positive                             (8,313,603)   \n",
      "2            Very Positive                (81% of 62,791) All Time   \n",
      "3            Very Positive                               (680,264)   \n",
      "4            Very Positive                               (705,261)   \n",
      "\n",
      "  number_of_english_reviews                                               link  \n",
      "0                    51,931  https://store.steampowered.com/app/2358720/Bla...  \n",
      "1                 2,258,990  https://store.steampowered.com/app/730/Counter...  \n",
      "2                    51,920  https://store.steampowered.com/app/2183900/War...  \n",
      "3                   324,124  https://store.steampowered.com/app/1091500/Cyb...  \n",
      "4                   491,741  https://store.steampowered.com/app/1245620/ELD...  \n",
      "\n",
      "\n",
      "\n",
      "Steam Game Reviews: \n",
      "                                              review hours_played helpful  \\\n",
      "0  The game itself is also super fun. The PvP and...         39.9   1,152   \n",
      "1  Never cared much about Warhammer until this ga...         91.5     712   \n",
      "2  A salute to all the fallen battle brothers who...         43.3     492   \n",
      "3  this game feels like it was made in the mid 20...         16.8     661   \n",
      "4  Reminds me of something I've lost. A genuine g...         24.0     557   \n",
      "\n",
      "  funny recommendation          date                         game_name  \\\n",
      "0    13    Recommended  14 September  Warhammer 40,000: Space Marine 2   \n",
      "1   116    Recommended  13 September  Warhammer 40,000: Space Marine 2   \n",
      "2    33    Recommended  14 September  Warhammer 40,000: Space Marine 2   \n",
      "3    15    Recommended  14 September  Warhammer 40,000: Space Marine 2   \n",
      "4     4    Recommended  12 September  Warhammer 40,000: Space Marine 2   \n",
      "\n",
      "                             username  \n",
      "0  Sentinowl\\n224 products in account  \n",
      "1    userpig\\n248 products in account  \n",
      "2  Imparat0r\\n112 products in account  \n",
      "3                      Fattest_falcon  \n",
      "4        Jek\\n410 products in account  \n"
     ]
    }
   ],
   "source": [
    "# If you want to preview the data\n",
    "print(\"Games Ranking: \")\n",
    "print(games_ranking_df.head())\n",
    "print(\"\\n\\n\")\n",
    "print(\"Games Description: \")\n",
    "print(games_description_df.head())\n",
    "print(\"\\n\\n\")\n",
    "print(\"Steam Game Reviews: \")\n",
    "print(steam_game_reviews_df.head())"
   ]
  },
  {
   "cell_type": "code",
   "execution_count": 14,
   "id": "d1c53f23-8824-47cc-9813-8a5d29f0a6b6",
   "metadata": {},
   "outputs": [
    {
     "name": "stdout",
     "output_type": "stream",
     "text": [
      "Ready to go!\n"
     ]
    }
   ],
   "source": [
    "initialize_llm(api_key=\"YOUR API KEY\")\n",
    "#Verify we can continue, True if we can\n",
    "print(\"Ready to go!\") if verify_setup() == True else print(\"Something went wrong\")"
   ]
  },
  {
   "cell_type": "markdown",
   "id": "713a8bab-6856-478a-a557-66f07507eb1f",
   "metadata": {},
   "source": [
    "### Let's start easy!\n",
    "\n",
    "Let's take a random subset of 5 reviews from a random game and summarize the reviews using the `summarize_text` function."
   ]
  },
  {
   "cell_type": "code",
   "execution_count": 11,
   "id": "6dfdb16b-1c80-4eea-9805-cfa61a6d9e42",
   "metadata": {},
   "outputs": [
    {
     "data": {
      "text/plain": [
       "'2020 I adore this game. it\\'s deceptive simple, yet actually somewhat difficult. there\\'s a variety of time trials to keep the vibe going post-story--took me 10 hours to play through the story. so if you\\'re into speedrunning or anything like that, this will be hella fun 2020 very chiil love the vibesskate fasteat trash 2020 just a great game 2020 A Bird\\'s Eye View Curator 🦜IntroductionTanuki Sunset is a game in which you play as a rebel raccoon not only disobeying their mother by not wearing a helm but also all of the Tony Hawk knowledge I possess that you don\\'t do tricks on a longboard AND the titular Tanuki even does it without looking ahead!Visuals and MechanicsThe visuals of Tanuki Sunset are a gorgeous depiction of the 80\\'s synthwavey style with dancing to the music suns and buildings and overall vibrant and un-photorealistic style of the entire game and it\\'s menus. As for the mechanics boy is this game an example of easy to learn and hard to master. Much further than steering, drifting and a few tricks the game doesn\\'t push you but if you want to do it well you need to be on the ball!GameplayThe absolute first thing I noticed when playing the game is that a bit counter intuitively drifting is NOT good and only slows you down. You should learn when and where you don\\'t need to drift. All of the stages aren\\'t always the same and it\\'s more comparable to a Super Mario World \\'tileset\\' where a stage has road shapes and obstacles to progressively pick from which can be really kind to you or create triple s-curve snakey hell on earth! A few small quirks I\\'d like to mention though are things like the difference between doing a ramp well and not is basically non-existent so at first you have no clue if you do it well or not and that sometimes the tutorial monkey flat out forgets to explain the controls for keyboard and just says \"press Y\". That said I absolutely appreciate the attention to detail of giving you a smooth and continuous experience from the soundtrack I\\'ll go into detail about later and the game not catapulting you off of your board if you don\\'t perfectly do 180 degree increments of a spin or if you hit most obstacles. A lot of the obstacles just slow you down instead of ending your attempt.SoundtrackThe soundtrack is varied between quite a few genres and artists but it overall creates a really cool homogeneous blend of a \\'mini-soundtrack\\' per location. Every location change also changes what songs the shuffle picks from so that every location and stage feels and sounds largely different. To be a bit nitpicky however some songs really don\\'t fade well into each other creating a long trailing fade-out or silence halting the continuous mood. On the side of the sound design it\\'s largely a non-intrusive and charming selection of sounds emphasizing your actions but every now and then the jump squeak does get overly present.ConclusionThen, in conclusion, would I recommend you to get this game? Absolutely! Tanuki Sunset is a very enjoyable experience that will keep you hooked for many hours and the experience heavily outweighs the small \\'new game hiccups\\' like the highlight in menus not following your selection but just remembering the last option picked and that for example the second checkpoint indicated on the progression bar between 3-1 and 3-2 doesn\\'t exist. Tanuki Sunset is ideal for people just wanting a fun and enjoyable game and a great challenge for the completionists among us!Associated Media A bird\\'s-eye view of Tanuki Sunset A Video of Tanuki Sunset By: Yingwu Usagiri Hidden video for Steam review (sorry for the Discord pings, I had no idea game capture would\\'ve captured those too as I was streaming) The drifting trickster not even looking A Screenshot of Tanuki Sunset By: Yingwu Usagiri 2020 great game but it is rather short'"
      ]
     },
     "execution_count": 11,
     "metadata": {},
     "output_type": "execute_result"
    }
   ],
   "source": [
    "random_game = random.choice(steam_game_reviews_df['game_name'].unique())\n",
    "random_game_reviews = steam_game_reviews_df[steam_game_reviews_df['game_name'] == random_game].sample(5, random_state=42)\n",
    "\n",
    "random_game, random_game_reviews['review'].tolist()\n",
    "reviews_concat = \" \".join(random_game_reviews['review'].tolist())\n",
    "reviews_concat"
   ]
  },
  {
   "cell_type": "code",
   "execution_count": 13,
   "id": "24e2eb97-353e-4774-becc-0e48b6bd980c",
   "metadata": {},
   "outputs": [
    {
     "data": {
      "text/plain": [
       "'Key Points:\\n\\n1. **Game Overview**: \"Tanuki Sunset\" features a rebel raccoon character and combines elements of skateboarding with a vibrant 80\\'s synthwave aesthetic.\\n\\n2. **Gameplay Mechanics**: The game is easy to learn but challenging to master, with a focus on steering and timing rather than drifting, which can slow players down.\\n\\n3. **Visuals and Soundtrack**: The visuals are colorful and stylized, while the soundtrack varies by location, enhancing the gaming experience, though some transitions between songs could be smoother.\\n\\n4. **Time Trials and Replayability**: After completing the 10-hour story mode, players can engage in various time trials, making it appealing for speedrunners and completionists.\\n\\n5. **Recommendation**: Overall, the game is highly recommended for its enjoyable experience, despite minor issues with controls and menu navigation.'"
      ]
     },
     "execution_count": 13,
     "metadata": {},
     "output_type": "execute_result"
    }
   ],
   "source": [
    "summary = summarize_text(reviews_concat)\n",
    "summary"
   ]
  },
  {
   "cell_type": "markdown",
   "id": "06f90779-f4d0-410d-9564-935c23ac00a3",
   "metadata": {},
   "source": [
    "### Different Customer Sentiments Among Various Satisifaction Levels\n",
    "Now we'll move onto something more interesting. Let's say we have a game and a distribution of reviews in one of the following categories:\n",
    "- Overwhelmingly Positive\n",
    "- Very Positive\n",
    "- Positive\n",
    "- Mostly Positive\n",
    "- Mixed\n",
    "- Mostly Negative\n",
    "- Negative\n",
    "- Very Negative\n",
    "- Overwhelmingly Negative\n",
    "\n",
    "Here is how they do the rankings if you are curious, though it isn't relevant for this first exercise.\n",
    "| Score Range | Reviews     | Sentiment   | Intensity        |\n",
    "|-------------|-------------|-------------|------------------|\n",
    "| 95 - 100    | 500+        | Positive    | Overwhelming     |\n",
    "| 85 - 100    | 50+         | Positive    | Very             |\n",
    "| 80 - 100    | 1+          | Positive    |                  |\n",
    "| 70 - 79     | 1+          | Positive    | Mostly           |\n",
    "| 40 - 69     | 1+          | Mixed       |                  |\n",
    "| 20 - 39     | 1+          | Negative    | Mostly           |\n",
    "|  0 - 19     | 1+          | Negative    |                  |\n",
    "|  0 - 19     | 50+         | Negative    | Very             |\n",
    "|  0 - 19     | 500+        | Negative    | Overwhelming     |\n"
   ]
  },
  {
   "cell_type": "markdown",
   "id": "dfd701de-4b54-4c14-a538-e0e199931c97",
   "metadata": {},
   "source": [
    "We want to show a game's distribution of rankings by those categories on a plot. That shouldn't be too difficult."
   ]
  },
  {
   "cell_type": "code",
   "execution_count": null,
   "id": "ae21e9ab-b7e1-4d8e-8086-fb04beda4f3a",
   "metadata": {},
   "outputs": [],
   "source": []
  }
 ],
 "metadata": {
  "kernelspec": {
   "display_name": "Python 3 (ipykernel)",
   "language": "python",
   "name": "python3"
  },
  "language_info": {
   "codemirror_mode": {
    "name": "ipython",
    "version": 3
   },
   "file_extension": ".py",
   "mimetype": "text/x-python",
   "name": "python",
   "nbconvert_exporter": "python",
   "pygments_lexer": "ipython3",
   "version": "3.12.3"
  }
 },
 "nbformat": 4,
 "nbformat_minor": 5
}
